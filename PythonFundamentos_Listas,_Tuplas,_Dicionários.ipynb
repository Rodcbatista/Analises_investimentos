{
  "nbformat": 4,
  "nbformat_minor": 0,
  "metadata": {
    "colab": {
      "name": "PythonFundamentos Listas, Tuplas, Dicionários.ipynb",
      "provenance": [],
      "toc_visible": true,
      "authorship_tag": "ABX9TyPzhzb7/rfkubFmA/cT7lR+",
      "include_colab_link": true
    },
    "kernelspec": {
      "name": "python3",
      "display_name": "Python 3"
    }
  },
  "cells": [
    {
      "cell_type": "markdown",
      "metadata": {
        "id": "view-in-github",
        "colab_type": "text"
      },
      "source": [
        "<a href=\"https://colab.research.google.com/github/Rodcbatista/Analises_investimentos/blob/master/PythonFundamentos_Listas%2C_Tuplas%2C_Dicion%C3%A1rios.ipynb\" target=\"_parent\"><img src=\"https://colab.research.google.com/assets/colab-badge.svg\" alt=\"Open In Colab\"/></a>"
      ]
    },
    {
      "cell_type": "code",
      "metadata": {
        "id": "91zcjG5I4rdj",
        "colab_type": "code",
        "colab": {}
      },
      "source": [
        "#adição\n",
        "3 + 5"
      ],
      "execution_count": null,
      "outputs": []
    },
    {
      "cell_type": "code",
      "metadata": {
        "id": "yvAPJ1Ad9suf",
        "colab_type": "code",
        "colab": {
          "base_uri": "https://localhost:8080/",
          "height": 34
        },
        "outputId": "2257b9b4-916a-474e-99ea-7d21df33c021"
      },
      "source": [
        "#Valores hexadecimais \n",
        "hex(3240)"
      ],
      "execution_count": null,
      "outputs": [
        {
          "output_type": "execute_result",
          "data": {
            "text/plain": [
              "'0xca8'"
            ]
          },
          "metadata": {
            "tags": []
          },
          "execution_count": 3
        }
      ]
    },
    {
      "cell_type": "code",
      "metadata": {
        "id": "QTR0IpkV9wLq",
        "colab_type": "code",
        "colab": {
          "base_uri": "https://localhost:8080/",
          "height": 34
        },
        "outputId": "6bd9e545-42cb-441b-a083-1bd6393611c2"
      },
      "source": [
        "#Valores binários\n",
        "bin(512)"
      ],
      "execution_count": null,
      "outputs": [
        {
          "output_type": "execute_result",
          "data": {
            "text/plain": [
              "'0b1000000000'"
            ]
          },
          "metadata": {
            "tags": []
          },
          "execution_count": 11
        }
      ]
    },
    {
      "cell_type": "code",
      "metadata": {
        "id": "cR5Yc05n97f7",
        "colab_type": "code",
        "colab": {
          "base_uri": "https://localhost:8080/",
          "height": 34
        },
        "outputId": "9879d8e4-5bb2-43cc-d288-16c809431ca0"
      },
      "source": [
        "#float\n",
        "float(6)"
      ],
      "execution_count": null,
      "outputs": [
        {
          "output_type": "execute_result",
          "data": {
            "text/plain": [
              "6.0"
            ]
          },
          "metadata": {
            "tags": []
          },
          "execution_count": 13
        }
      ]
    },
    {
      "cell_type": "code",
      "metadata": {
        "id": "GRadIBeN-OfY",
        "colab_type": "code",
        "colab": {
          "base_uri": "https://localhost:8080/",
          "height": 34
        },
        "outputId": "80d05adb-3974-4755-e23b-6ffdd0e14690"
      },
      "source": [
        "#inteiro\n",
        "int(6.32)"
      ],
      "execution_count": null,
      "outputs": [
        {
          "output_type": "execute_result",
          "data": {
            "text/plain": [
              "6"
            ]
          },
          "metadata": {
            "tags": []
          },
          "execution_count": 15
        }
      ]
    },
    {
      "cell_type": "code",
      "metadata": {
        "id": "KpgbroeF-Ka-",
        "colab_type": "code",
        "colab": {
          "base_uri": "https://localhost:8080/",
          "height": 34
        },
        "outputId": "a33d58b9-4f15-4fc3-d602-62b157d51402"
      },
      "source": [
        "#Divisão com valores float\n",
        "3/5"
      ],
      "execution_count": null,
      "outputs": [
        {
          "output_type": "execute_result",
          "data": {
            "text/plain": [
              "0.6"
            ]
          },
          "metadata": {
            "tags": []
          },
          "execution_count": 17
        }
      ]
    },
    {
      "cell_type": "code",
      "metadata": {
        "id": "CIc8sPsm-Vlg",
        "colab_type": "code",
        "colab": {
          "base_uri": "https://localhost:8080/",
          "height": 34
        },
        "outputId": "ae55fb31-55ad-4fce-8cd8-2976355d3684"
      },
      "source": [
        "#Divisão com valores inteiros\n",
        "3//5"
      ],
      "execution_count": null,
      "outputs": [
        {
          "output_type": "execute_result",
          "data": {
            "text/plain": [
              "0"
            ]
          },
          "metadata": {
            "tags": []
          },
          "execution_count": 19
        }
      ]
    },
    {
      "cell_type": "markdown",
      "metadata": {
        "id": "0Q1SXqBT-owC",
        "colab_type": "text"
      },
      "source": [
        "# **Funções ABS, round e pow**"
      ]
    },
    {
      "cell_type": "code",
      "metadata": {
        "id": "gNy0JMRg-dmh",
        "colab_type": "code",
        "colab": {
          "base_uri": "https://localhost:8080/",
          "height": 34
        },
        "outputId": "1429d1fb-4a1c-4ef5-faca-87e0397b8873"
      },
      "source": [
        "#retorna o valor absoluto\n",
        "abs(-8)"
      ],
      "execution_count": null,
      "outputs": [
        {
          "output_type": "execute_result",
          "data": {
            "text/plain": [
              "8"
            ]
          },
          "metadata": {
            "tags": []
          },
          "execution_count": 20
        }
      ]
    },
    {
      "cell_type": "code",
      "metadata": {
        "id": "ObMPBqQ7-vzO",
        "colab_type": "code",
        "colab": {
          "base_uri": "https://localhost:8080/",
          "height": 34
        },
        "outputId": "a06ab5f7-7584-48c7-d343-1920576ffdd3"
      },
      "source": [
        "#retorna o valor com arredondamento\n",
        "round(3.1436,2)"
      ],
      "execution_count": null,
      "outputs": [
        {
          "output_type": "execute_result",
          "data": {
            "text/plain": [
              "3.14"
            ]
          },
          "metadata": {
            "tags": []
          },
          "execution_count": 22
        }
      ]
    },
    {
      "cell_type": "code",
      "metadata": {
        "id": "bbfWsETi-5bJ",
        "colab_type": "code",
        "colab": {
          "base_uri": "https://localhost:8080/",
          "height": 34
        },
        "outputId": "d4278f9d-0ab2-4fbf-d7a5-a8f27dea7772"
      },
      "source": [
        "#potência\n",
        "pow(4,2)"
      ],
      "execution_count": null,
      "outputs": [
        {
          "output_type": "execute_result",
          "data": {
            "text/plain": [
              "16"
            ]
          },
          "metadata": {
            "tags": []
          },
          "execution_count": 23
        }
      ]
    },
    {
      "cell_type": "markdown",
      "metadata": {
        "id": "V9x_kGrGSMxE",
        "colab_type": "text"
      },
      "source": [
        "**Variáveis e Operadores**"
      ]
    },
    {
      "cell_type": "code",
      "metadata": {
        "id": "A-K5Ce9LSi0_",
        "colab_type": "code",
        "colab": {}
      },
      "source": [
        "#atribuindoo valor 1 à veriável var_teste\n",
        "var_teste = 1"
      ],
      "execution_count": null,
      "outputs": []
    },
    {
      "cell_type": "code",
      "metadata": {
        "id": "fsg4Eia_Sov_",
        "colab_type": "code",
        "colab": {
          "base_uri": "https://localhost:8080/",
          "height": 34
        },
        "outputId": "42c7151a-fb6e-40bc-b444-dabc9bd0a225"
      },
      "source": [
        "#imprimindo o valor da variável\n",
        "var_teste"
      ],
      "execution_count": null,
      "outputs": [
        {
          "output_type": "execute_result",
          "data": {
            "text/plain": [
              "1"
            ]
          },
          "metadata": {
            "tags": []
          },
          "execution_count": 2
        }
      ]
    },
    {
      "cell_type": "code",
      "metadata": {
        "id": "bDSRfjYmSrp2",
        "colab_type": "code",
        "colab": {
          "base_uri": "https://localhost:8080/",
          "height": 34
        },
        "outputId": "41b02426-d28a-4a19-dd46-26b6c5c09da7"
      },
      "source": [
        "type(var_teste)\n",
        "int"
      ],
      "execution_count": null,
      "outputs": [
        {
          "output_type": "execute_result",
          "data": {
            "text/plain": [
              "int"
            ]
          },
          "metadata": {
            "tags": []
          },
          "execution_count": 4
        }
      ]
    },
    {
      "cell_type": "code",
      "metadata": {
        "id": "Ehw-Oh1QVhYB",
        "colab_type": "code",
        "colab": {
          "base_uri": "https://localhost:8080/",
          "height": 34
        },
        "outputId": "067a7522-ffad-441c-f0ac-3c53a28fc549"
      },
      "source": [
        "var_teste = 3.5\n",
        "type(var_teste)"
      ],
      "execution_count": null,
      "outputs": [
        {
          "output_type": "execute_result",
          "data": {
            "text/plain": [
              "float"
            ]
          },
          "metadata": {
            "tags": []
          },
          "execution_count": 5
        }
      ]
    },
    {
      "cell_type": "code",
      "metadata": {
        "id": "z0cgFC1vVpC8",
        "colab_type": "code",
        "colab": {
          "base_uri": "https://localhost:8080/",
          "height": 34
        },
        "outputId": "c0a1125c-0d90-4c78-c98c-58a5d332ba2f"
      },
      "source": [
        "x = 2\n",
        "x"
      ],
      "execution_count": null,
      "outputs": [
        {
          "output_type": "execute_result",
          "data": {
            "text/plain": [
              "2"
            ]
          },
          "metadata": {
            "tags": []
          },
          "execution_count": 8
        }
      ]
    },
    {
      "cell_type": "markdown",
      "metadata": {
        "id": "A_QJyW6JVvfP",
        "colab_type": "text"
      },
      "source": [
        "**DECLARAÇÃO MÚLTIPLA**"
      ]
    },
    {
      "cell_type": "code",
      "metadata": {
        "id": "FtNAuUNMWLfV",
        "colab_type": "code",
        "colab": {}
      },
      "source": [
        "pessoa1, pessoa2, pessoa3 = \"Maria\", \"José\", \"Tobias\""
      ],
      "execution_count": null,
      "outputs": []
    },
    {
      "cell_type": "code",
      "metadata": {
        "id": "A8siyr8Yalf9",
        "colab_type": "code",
        "colab": {
          "base_uri": "https://localhost:8080/",
          "height": 34
        },
        "outputId": "db2894aa-e5e0-4f5a-968f-102de6e8f670"
      },
      "source": [
        "pessoa1"
      ],
      "execution_count": null,
      "outputs": [
        {
          "output_type": "execute_result",
          "data": {
            "text/plain": [
              "'Maria'"
            ]
          },
          "metadata": {
            "tags": []
          },
          "execution_count": 13
        }
      ]
    },
    {
      "cell_type": "code",
      "metadata": {
        "id": "2dzP-kvjamuX",
        "colab_type": "code",
        "colab": {
          "base_uri": "https://localhost:8080/",
          "height": 34
        },
        "outputId": "9463f2f2-3e3b-4611-b832-14ff45e728df"
      },
      "source": [
        "pessoa2"
      ],
      "execution_count": null,
      "outputs": [
        {
          "output_type": "execute_result",
          "data": {
            "text/plain": [
              "'José'"
            ]
          },
          "metadata": {
            "tags": []
          },
          "execution_count": 12
        }
      ]
    },
    {
      "cell_type": "code",
      "metadata": {
        "id": "XXa_czrUanYf",
        "colab_type": "code",
        "colab": {
          "base_uri": "https://localhost:8080/",
          "height": 34
        },
        "outputId": "aa849440-e6ee-4a70-a70f-9dfa149220a0"
      },
      "source": [
        "pessoa3"
      ],
      "execution_count": null,
      "outputs": [
        {
          "output_type": "execute_result",
          "data": {
            "text/plain": [
              "'Tobias'"
            ]
          },
          "metadata": {
            "tags": []
          },
          "execution_count": 11
        }
      ]
    },
    {
      "cell_type": "code",
      "metadata": {
        "id": "jyJJhBl0avHK",
        "colab_type": "code",
        "colab": {}
      },
      "source": [
        "fruta1 = fruta2 = fruta3 = \"Laranja\""
      ],
      "execution_count": null,
      "outputs": []
    },
    {
      "cell_type": "code",
      "metadata": {
        "id": "JY0WoliRa0JH",
        "colab_type": "code",
        "colab": {
          "base_uri": "https://localhost:8080/",
          "height": 34
        },
        "outputId": "71fd2709-977b-4cbe-cd1a-8b649c9d4a90"
      },
      "source": [
        "fruta1"
      ],
      "execution_count": null,
      "outputs": [
        {
          "output_type": "execute_result",
          "data": {
            "text/plain": [
              "'Laranja'"
            ]
          },
          "metadata": {
            "tags": []
          },
          "execution_count": 16
        }
      ]
    },
    {
      "cell_type": "code",
      "metadata": {
        "id": "ezxAp_30a1Jh",
        "colab_type": "code",
        "colab": {
          "base_uri": "https://localhost:8080/",
          "height": 34
        },
        "outputId": "f3e04138-df58-4106-a168-b3d3d2add452"
      },
      "source": [
        "fruta2"
      ],
      "execution_count": null,
      "outputs": [
        {
          "output_type": "execute_result",
          "data": {
            "text/plain": [
              "'Laranja'"
            ]
          },
          "metadata": {
            "tags": []
          },
          "execution_count": 17
        }
      ]
    },
    {
      "cell_type": "markdown",
      "metadata": {
        "id": "J1jLdLfsbGpz",
        "colab_type": "text"
      },
      "source": [
        "**Pode-se usar letras, números e underline (mas não se pode começar com números)**"
      ]
    },
    {
      "cell_type": "code",
      "metadata": {
        "id": "DB97pSdbbLLf",
        "colab_type": "code",
        "colab": {}
      },
      "source": [
        "x1 = 50"
      ],
      "execution_count": null,
      "outputs": []
    },
    {
      "cell_type": "code",
      "metadata": {
        "id": "WMPql5QifaE4",
        "colab_type": "code",
        "colab": {
          "base_uri": "https://localhost:8080/",
          "height": 34
        },
        "outputId": "3919690e-009d-4eee-feb6-26f7f1f275e6"
      },
      "source": [
        "x1"
      ],
      "execution_count": null,
      "outputs": [
        {
          "output_type": "execute_result",
          "data": {
            "text/plain": [
              "50"
            ]
          },
          "metadata": {
            "tags": []
          },
          "execution_count": 19
        }
      ]
    },
    {
      "cell_type": "markdown",
      "metadata": {
        "id": "V4GEkYVCgMmS",
        "colab_type": "text"
      },
      "source": [
        "**Operações com Variáveis**"
      ]
    },
    {
      "cell_type": "code",
      "metadata": {
        "id": "hlGOAcw8fcOf",
        "colab_type": "code",
        "colab": {}
      },
      "source": [
        "idade1 = 25\n",
        "idade2 = 35"
      ],
      "execution_count": null,
      "outputs": []
    },
    {
      "cell_type": "code",
      "metadata": {
        "id": "6hY3knjygUvC",
        "colab_type": "code",
        "colab": {
          "base_uri": "https://localhost:8080/",
          "height": 34
        },
        "outputId": "1efce9e2-4d66-46cf-9cbf-437949f99e5b"
      },
      "source": [
        "idade1 + idade2"
      ],
      "execution_count": null,
      "outputs": [
        {
          "output_type": "execute_result",
          "data": {
            "text/plain": [
              "60"
            ]
          },
          "metadata": {
            "tags": []
          },
          "execution_count": 21
        }
      ]
    },
    {
      "cell_type": "code",
      "metadata": {
        "id": "ynG3-a-FgWwq",
        "colab_type": "code",
        "colab": {
          "base_uri": "https://localhost:8080/",
          "height": 34
        },
        "outputId": "4221cbde-a5c8-4720-8d92-d04e38c9f21f"
      },
      "source": [
        "idade2 - idade1"
      ],
      "execution_count": null,
      "outputs": [
        {
          "output_type": "execute_result",
          "data": {
            "text/plain": [
              "10"
            ]
          },
          "metadata": {
            "tags": []
          },
          "execution_count": 22
        }
      ]
    },
    {
      "cell_type": "markdown",
      "metadata": {
        "id": "PPpzWuyagayb",
        "colab_type": "text"
      },
      "source": [
        "**Concatenação de Variáveis**"
      ]
    },
    {
      "cell_type": "markdown",
      "metadata": {
        "id": "vfOVVNc91Gn6",
        "colab_type": "text"
      },
      "source": [
        "DASDASDAS# New Section"
      ]
    },
    {
      "cell_type": "code",
      "metadata": {
        "id": "QFSZsI2ngcjS",
        "colab_type": "code",
        "colab": {}
      },
      "source": [
        "nome = \"Steve\"\n",
        "sobrenome = \"Jobs\""
      ],
      "execution_count": null,
      "outputs": []
    },
    {
      "cell_type": "code",
      "metadata": {
        "id": "3sWNG5oPggSy",
        "colab_type": "code",
        "colab": {}
      },
      "source": [
        "fullname = nome + \" \" + sobrenome"
      ],
      "execution_count": null,
      "outputs": []
    },
    {
      "cell_type": "code",
      "metadata": {
        "id": "Swggmm1cgkg6",
        "colab_type": "code",
        "colab": {
          "base_uri": "https://localhost:8080/",
          "height": 34
        },
        "outputId": "2896d22f-0cca-45d7-a948-7f3cfe76260d"
      },
      "source": [
        "fullname"
      ],
      "execution_count": null,
      "outputs": [
        {
          "output_type": "execute_result",
          "data": {
            "text/plain": [
              "'Steve Jobs'"
            ]
          },
          "metadata": {
            "tags": []
          },
          "execution_count": 28
        }
      ]
    },
    {
      "cell_type": "markdown",
      "metadata": {
        "id": "1dXaaV5Uiu73",
        "colab_type": "text"
      },
      "source": [
        "**Strings e Indexação em Python**"
      ]
    },
    {
      "cell_type": "markdown",
      "metadata": {
        "id": "EyJGUEy4i7vO",
        "colab_type": "text"
      },
      "source": [
        "**FUNÇÕES BUILT-IN DE STRINGS**\n",
        "\n",
        "Em Python a indexação começa por '0'\n",
        "\n",
        "É importante ressaltar que as strings têm uma importante propriedade conhecida como imutabilidade. Isto significa que uma vez que é criada uma string, os elementos dentro dela não podem ser substituídos ou alterados. \n",
        "Os métodos estão sob a forma: \n",
        "objeto.atributo\n",
        "objeto.método()\n",
        "objeto.método(parâmetros)"
      ]
    },
    {
      "cell_type": "markdown",
      "metadata": {
        "id": "13m4TyOfjqFY",
        "colab_type": "text"
      },
      "source": [
        "Python é uma linguagem orientada a objeto, sendo assim as estruturas de dados possuem atributos (propriedades) e métodos (rotinas associadas às propriedades). Tanto os atributos quanto os métodos são acessados usando ponto(.). "
      ]
    },
    {
      "cell_type": "code",
      "metadata": {
        "id": "WUAIxr3LmtPC",
        "colab_type": "code",
        "colab": {
          "base_uri": "https://localhost:8080/",
          "height": 34
        },
        "outputId": "649847ff-f433-4974-fd41-3cee36822251"
      },
      "source": [
        "# uma única palavra\n",
        "'oi'"
      ],
      "execution_count": null,
      "outputs": [
        {
          "output_type": "execute_result",
          "data": {
            "text/plain": [
              "'oi'"
            ]
          },
          "metadata": {
            "tags": []
          },
          "execution_count": 1
        }
      ]
    },
    {
      "cell_type": "code",
      "metadata": {
        "id": "e16-DIw_ixNF",
        "colab_type": "code",
        "colab": {
          "base_uri": "https://localhost:8080/",
          "height": 34
        },
        "outputId": "ec244cc5-74d9-4df3-e21a-2f5524509f97"
      },
      "source": [
        "# uma frase\n",
        "\"'Criando' uma string em Python\""
      ],
      "execution_count": null,
      "outputs": [
        {
          "output_type": "execute_result",
          "data": {
            "text/plain": [
              "\"'Criando' uma string em Python\""
            ]
          },
          "metadata": {
            "tags": []
          },
          "execution_count": 4
        }
      ]
    },
    {
      "cell_type": "markdown",
      "metadata": {
        "id": "KY_P5xbCnM43",
        "colab_type": "text"
      },
      "source": [
        "Imprimindo uma string\n"
      ]
    },
    {
      "cell_type": "code",
      "metadata": {
        "id": "QpsvcE1SnOgG",
        "colab_type": "code",
        "colab": {
          "base_uri": "https://localhost:8080/",
          "height": 34
        },
        "outputId": "1a9ee144-a7f1-4991-c15d-6e703bca075c"
      },
      "source": [
        "print('Testando Strings em Python')"
      ],
      "execution_count": null,
      "outputs": [
        {
          "output_type": "stream",
          "text": [
            "Testando Strings em Python\n"
          ],
          "name": "stdout"
        }
      ]
    },
    {
      "cell_type": "code",
      "metadata": {
        "id": "hkJYMXAhnSB6",
        "colab_type": "code",
        "colab": {
          "base_uri": "https://localhost:8080/",
          "height": 85
        },
        "outputId": "479ca227-6211-45b8-f3a9-535ccf5827bc"
      },
      "source": [
        "print('testando \\n strings \\n em \\n python')"
      ],
      "execution_count": null,
      "outputs": [
        {
          "output_type": "stream",
          "text": [
            "testando \n",
            " strings \n",
            " em \n",
            " python\n"
          ],
          "name": "stdout"
        }
      ]
    },
    {
      "cell_type": "code",
      "metadata": {
        "id": "LXaC3-cunk74",
        "colab_type": "code",
        "colab": {
          "base_uri": "https://localhost:8080/",
          "height": 51
        },
        "outputId": "501b0fad-e182-4f69-f5cb-5d4820115350"
      },
      "source": [
        "print ('\\n')"
      ],
      "execution_count": null,
      "outputs": [
        {
          "output_type": "stream",
          "text": [
            "\n",
            "\n"
          ],
          "name": "stdout"
        }
      ]
    },
    {
      "cell_type": "markdown",
      "metadata": {
        "id": "7O_HodY-nn7u",
        "colab_type": "text"
      },
      "source": [
        "Indexando Strings\n"
      ]
    },
    {
      "cell_type": "code",
      "metadata": {
        "id": "sXQnfAgznp4F",
        "colab_type": "code",
        "colab": {}
      },
      "source": [
        "#atribuindo uma string\n",
        "s = 'data science academy'"
      ],
      "execution_count": null,
      "outputs": []
    },
    {
      "cell_type": "code",
      "metadata": {
        "id": "_BghKZmJntQN",
        "colab_type": "code",
        "colab": {
          "base_uri": "https://localhost:8080/",
          "height": 34
        },
        "outputId": "ad44aff8-c981-4b6a-bce4-f2612829b9ef"
      },
      "source": [
        "print(s)"
      ],
      "execution_count": null,
      "outputs": [
        {
          "output_type": "stream",
          "text": [
            "data science academy\n"
          ],
          "name": "stdout"
        }
      ]
    },
    {
      "cell_type": "code",
      "metadata": {
        "id": "1p9yHgShnu5O",
        "colab_type": "code",
        "colab": {
          "base_uri": "https://localhost:8080/",
          "height": 34
        },
        "outputId": "21925573-6534-4724-d59a-fb70b18d226b"
      },
      "source": [
        "#primeiro elemento da string\n",
        "s[0]"
      ],
      "execution_count": null,
      "outputs": [
        {
          "output_type": "execute_result",
          "data": {
            "text/plain": [
              "'d'"
            ]
          },
          "metadata": {
            "tags": []
          },
          "execution_count": 13
        }
      ]
    },
    {
      "cell_type": "code",
      "metadata": {
        "id": "v5F7UgEzn0AG",
        "colab_type": "code",
        "colab": {
          "base_uri": "https://localhost:8080/",
          "height": 34
        },
        "outputId": "86a3f0fe-7027-4ab4-8dcb-f646d7789db7"
      },
      "source": [
        "s[1]"
      ],
      "execution_count": null,
      "outputs": [
        {
          "output_type": "execute_result",
          "data": {
            "text/plain": [
              "'a'"
            ]
          },
          "metadata": {
            "tags": []
          },
          "execution_count": 14
        }
      ]
    },
    {
      "cell_type": "code",
      "metadata": {
        "id": "t3TqLemIn2qG",
        "colab_type": "code",
        "colab": {
          "base_uri": "https://localhost:8080/",
          "height": 34
        },
        "outputId": "c3544078-a5d8-4a8c-88d2-d4d04a94491c"
      },
      "source": [
        "s[2]"
      ],
      "execution_count": null,
      "outputs": [
        {
          "output_type": "execute_result",
          "data": {
            "text/plain": [
              "'t'"
            ]
          },
          "metadata": {
            "tags": []
          },
          "execution_count": 15
        }
      ]
    },
    {
      "cell_type": "markdown",
      "metadata": {
        "id": "9wT4fuYEn6NK",
        "colab_type": "text"
      },
      "source": [
        "Podemos usar um: para executar um slicing que faz a leitura de tudo até um monto designado. Por exemplo:"
      ]
    },
    {
      "cell_type": "code",
      "metadata": {
        "id": "rxJwnQ8Nn32u",
        "colab_type": "code",
        "colab": {}
      },
      "source": [
        "#retorna todos os elementos da string, començando pela posição (lembre-se que python começa a indexação pela nposição 0)\n",
        "# até o fim da string."
      ],
      "execution_count": null,
      "outputs": []
    },
    {
      "cell_type": "code",
      "metadata": {
        "id": "488ZPvF-oMOp",
        "colab_type": "code",
        "colab": {
          "base_uri": "https://localhost:8080/",
          "height": 34
        },
        "outputId": "39c1d267-8f18-4aa4-9f63-eb0366c2e2af"
      },
      "source": [
        "s[1:]"
      ],
      "execution_count": null,
      "outputs": [
        {
          "output_type": "execute_result",
          "data": {
            "text/plain": [
              "'ata science academy'"
            ]
          },
          "metadata": {
            "tags": []
          },
          "execution_count": 18
        }
      ]
    },
    {
      "cell_type": "code",
      "metadata": {
        "id": "iGEpkmsloQYe",
        "colab_type": "code",
        "colab": {
          "base_uri": "https://localhost:8080/",
          "height": 34
        },
        "outputId": "e2c09fa6-86a7-4404-81d7-8c87589ec147"
      },
      "source": [
        "#retorna tudo até a posição 3\n",
        "s[:3]"
      ],
      "execution_count": null,
      "outputs": [
        {
          "output_type": "execute_result",
          "data": {
            "text/plain": [
              "'dat'"
            ]
          },
          "metadata": {
            "tags": []
          },
          "execution_count": 19
        }
      ]
    },
    {
      "cell_type": "code",
      "metadata": {
        "id": "wx0QfhABoceW",
        "colab_type": "code",
        "colab": {
          "base_uri": "https://localhost:8080/",
          "height": 34
        },
        "outputId": "4d468a76-4029-47d5-f900-c7df225347ff"
      },
      "source": [
        "s[:]"
      ],
      "execution_count": null,
      "outputs": [
        {
          "output_type": "execute_result",
          "data": {
            "text/plain": [
              "'data science academy'"
            ]
          },
          "metadata": {
            "tags": []
          },
          "execution_count": 20
        }
      ]
    },
    {
      "cell_type": "code",
      "metadata": {
        "id": "dHD9PYlKofEv",
        "colab_type": "code",
        "colab": {
          "base_uri": "https://localhost:8080/",
          "height": 34
        },
        "outputId": "42db9d68-cc4d-4fa1-c995-309450427af3"
      },
      "source": [
        "# nós também podemos usar a indexação negativa e ler de trás para frente.\n",
        "s[-1]"
      ],
      "execution_count": null,
      "outputs": [
        {
          "output_type": "execute_result",
          "data": {
            "text/plain": [
              "'y'"
            ]
          },
          "metadata": {
            "tags": []
          },
          "execution_count": 21
        }
      ]
    },
    {
      "cell_type": "code",
      "metadata": {
        "id": "4M3CJyDkokzW",
        "colab_type": "code",
        "colab": {
          "base_uri": "https://localhost:8080/",
          "height": 34
        },
        "outputId": "26624a50-467f-4ed5-ae16-0aa1f5483d23"
      },
      "source": [
        "#retornar tudo, exceto a última letra\n",
        "s[:-1]"
      ],
      "execution_count": null,
      "outputs": [
        {
          "output_type": "execute_result",
          "data": {
            "text/plain": [
              "'data science academ'"
            ]
          },
          "metadata": {
            "tags": []
          },
          "execution_count": 22
        }
      ]
    },
    {
      "cell_type": "markdown",
      "metadata": {
        "id": "MnVl5ATnpJk6",
        "colab_type": "text"
      },
      "source": [
        "**Nós também podemos usar a notação de índice e fatiar a string em pedaços específicos ( o padrão é 1). Por exemplo, podemos usar dois pontos duas vezes em uma linha e, em seguida, um número que especifica para retornar elementos. Por exemplo:**"
      ]
    },
    {
      "cell_type": "code",
      "metadata": {
        "id": "ilmio1ejoqdH",
        "colab_type": "code",
        "colab": {
          "base_uri": "https://localhost:8080/",
          "height": 34
        },
        "outputId": "c0063c05-90c4-426f-8262-fdacc9000e79"
      },
      "source": [
        "s[::1]"
      ],
      "execution_count": null,
      "outputs": [
        {
          "output_type": "execute_result",
          "data": {
            "text/plain": [
              "'data science academy'"
            ]
          },
          "metadata": {
            "tags": []
          },
          "execution_count": 23
        }
      ]
    },
    {
      "cell_type": "code",
      "metadata": {
        "id": "bT9-XirepcZx",
        "colab_type": "code",
        "colab": {
          "base_uri": "https://localhost:8080/",
          "height": 34
        },
        "outputId": "9ea98b2f-5855-4e70-aebc-526a552baedf"
      },
      "source": [
        "s[::2]"
      ],
      "execution_count": null,
      "outputs": [
        {
          "output_type": "execute_result",
          "data": {
            "text/plain": [
              "'dt cec cdm'"
            ]
          },
          "metadata": {
            "tags": []
          },
          "execution_count": 24
        }
      ]
    },
    {
      "cell_type": "code",
      "metadata": {
        "id": "N_nawXOopdx_",
        "colab_type": "code",
        "colab": {
          "base_uri": "https://localhost:8080/",
          "height": 34
        },
        "outputId": "c5c250c0-813a-4e12-ec8a-2b446cad929e"
      },
      "source": [
        "s[::-1]"
      ],
      "execution_count": null,
      "outputs": [
        {
          "output_type": "execute_result",
          "data": {
            "text/plain": [
              "'ymedaca ecneics atad'"
            ]
          },
          "metadata": {
            "tags": []
          },
          "execution_count": 25
        }
      ]
    },
    {
      "cell_type": "markdown",
      "metadata": {
        "id": "QEDRDDmNpum-",
        "colab_type": "text"
      },
      "source": [
        "**Propriedade de Strings**"
      ]
    },
    {
      "cell_type": "code",
      "metadata": {
        "id": "2XrL0rFJpfeG",
        "colab_type": "code",
        "colab": {
          "base_uri": "https://localhost:8080/",
          "height": 34
        },
        "outputId": "765e7fc4-df91-4513-b221-bad4d9b28f11"
      },
      "source": [
        "s"
      ],
      "execution_count": null,
      "outputs": [
        {
          "output_type": "execute_result",
          "data": {
            "text/plain": [
              "'data science academy'"
            ]
          },
          "metadata": {
            "tags": []
          },
          "execution_count": 26
        }
      ]
    },
    {
      "cell_type": "code",
      "metadata": {
        "id": "5CjkbAzHpyk-",
        "colab_type": "code",
        "colab": {
          "base_uri": "https://localhost:8080/",
          "height": 182
        },
        "outputId": "36d2a012-8e44-4e50-e6b9-ad2a947dc2ad"
      },
      "source": [
        "# alterando um caracter\n",
        "s[0] = 'x'"
      ],
      "execution_count": null,
      "outputs": [
        {
          "output_type": "error",
          "ename": "TypeError",
          "evalue": "ignored",
          "traceback": [
            "\u001b[0;31m---------------------------------------------------------------------------\u001b[0m",
            "\u001b[0;31mTypeError\u001b[0m                                 Traceback (most recent call last)",
            "\u001b[0;32m<ipython-input-27-7920212a6480>\u001b[0m in \u001b[0;36m<module>\u001b[0;34m()\u001b[0m\n\u001b[1;32m      1\u001b[0m \u001b[0;31m# alterando um caracter\u001b[0m\u001b[0;34m\u001b[0m\u001b[0;34m\u001b[0m\u001b[0;34m\u001b[0m\u001b[0m\n\u001b[0;32m----> 2\u001b[0;31m \u001b[0ms\u001b[0m\u001b[0;34m[\u001b[0m\u001b[0;36m0\u001b[0m\u001b[0;34m]\u001b[0m \u001b[0;34m=\u001b[0m \u001b[0;34m'x'\u001b[0m\u001b[0;34m\u001b[0m\u001b[0;34m\u001b[0m\u001b[0m\n\u001b[0m",
            "\u001b[0;31mTypeError\u001b[0m: 'str' object does not support item assignment"
          ]
        }
      ]
    },
    {
      "cell_type": "code",
      "metadata": {
        "id": "2VErf7q-p2OH",
        "colab_type": "code",
        "colab": {}
      },
      "source": [
        "# concatenando strings\n",
        "s = s + ' é a melhor maneira de estar preparado para o mercado de ti'"
      ],
      "execution_count": null,
      "outputs": []
    },
    {
      "cell_type": "code",
      "metadata": {
        "id": "tgdNkPlJqDan",
        "colab_type": "code",
        "colab": {
          "base_uri": "https://localhost:8080/",
          "height": 34
        },
        "outputId": "e4533759-6315-4060-b3dd-4cf08c20b76e"
      },
      "source": [
        "s"
      ],
      "execution_count": null,
      "outputs": [
        {
          "output_type": "execute_result",
          "data": {
            "text/plain": [
              "'data science academy é a melhor maneira de estar preparado para o mercado de ti'"
            ]
          },
          "metadata": {
            "tags": []
          },
          "execution_count": 31
        }
      ]
    },
    {
      "cell_type": "markdown",
      "metadata": {
        "id": "zDteysRUqTvG",
        "colab_type": "text"
      },
      "source": [
        "**Funções Built-In  de Strings**"
      ]
    },
    {
      "cell_type": "code",
      "metadata": {
        "id": "kw-EJXTgqOUe",
        "colab_type": "code",
        "colab": {
          "base_uri": "https://localhost:8080/",
          "height": 34
        },
        "outputId": "76accddc-7da1-42da-a1ef-733bd0c69195"
      },
      "source": [
        "# upper case (cola em maísculas)\n",
        "s.upper()"
      ],
      "execution_count": null,
      "outputs": [
        {
          "output_type": "execute_result",
          "data": {
            "text/plain": [
              "'DATA SCIENCE ACADEMY É A MELHOR MANEIRA DE ESTAR PREPARADO PARA O MERCADO DE TI'"
            ]
          },
          "metadata": {
            "tags": []
          },
          "execution_count": 32
        }
      ]
    },
    {
      "cell_type": "code",
      "metadata": {
        "id": "oS8vsB1Cqlhr",
        "colab_type": "code",
        "colab": {
          "base_uri": "https://localhost:8080/",
          "height": 34
        },
        "outputId": "cb660000-dfd1-4c44-9330-2ed88eaa6e51"
      },
      "source": [
        "# lower case (coloca em minusculas)\n",
        "s.lower()"
      ],
      "execution_count": null,
      "outputs": [
        {
          "output_type": "execute_result",
          "data": {
            "text/plain": [
              "'data science academy é a melhor maneira de estar preparado para o mercado de ti'"
            ]
          },
          "metadata": {
            "tags": []
          },
          "execution_count": 33
        }
      ]
    },
    {
      "cell_type": "code",
      "metadata": {
        "id": "q-FL3b1Jqrs3",
        "colab_type": "code",
        "colab": {
          "base_uri": "https://localhost:8080/",
          "height": 272
        },
        "outputId": "7b2468f3-3432-43d1-e232-eb376ec60e63"
      },
      "source": [
        "# dividir uma string por espaços em branco (padrão)\n",
        "s.split()"
      ],
      "execution_count": null,
      "outputs": [
        {
          "output_type": "execute_result",
          "data": {
            "text/plain": [
              "['data',\n",
              " 'science',\n",
              " 'academy',\n",
              " 'é',\n",
              " 'a',\n",
              " 'melhor',\n",
              " 'maneira',\n",
              " 'de',\n",
              " 'estar',\n",
              " 'preparado',\n",
              " 'para',\n",
              " 'o',\n",
              " 'mercado',\n",
              " 'de',\n",
              " 'ti']"
            ]
          },
          "metadata": {
            "tags": []
          },
          "execution_count": 34
        }
      ]
    },
    {
      "cell_type": "code",
      "metadata": {
        "id": "mG1s8b2irQo_",
        "colab_type": "code",
        "colab": {
          "base_uri": "https://localhost:8080/",
          "height": 51
        },
        "outputId": "57677fa9-58b5-44af-fa62-c89d80600e50"
      },
      "source": [
        "s.split('y')"
      ],
      "execution_count": null,
      "outputs": [
        {
          "output_type": "execute_result",
          "data": {
            "text/plain": [
              "['data science academ',\n",
              " ' é a melhor maneira de estar preparado para o mercado de ti']"
            ]
          },
          "metadata": {
            "tags": []
          },
          "execution_count": 35
        }
      ]
    },
    {
      "cell_type": "markdown",
      "metadata": {
        "id": "ZY9OAuxwrbUt",
        "colab_type": "text"
      },
      "source": [
        "**FUNÇÕES STRING** **"
      ]
    },
    {
      "cell_type": "code",
      "metadata": {
        "id": "gk1uBNDZrWxl",
        "colab_type": "code",
        "colab": {}
      },
      "source": [
        "s = 'seja bem vindo ao universo de python'"
      ],
      "execution_count": null,
      "outputs": []
    },
    {
      "cell_type": "code",
      "metadata": {
        "id": "SDnHtEf1riqd",
        "colab_type": "code",
        "colab": {
          "base_uri": "https://localhost:8080/",
          "height": 34
        },
        "outputId": "3e7da9a1-bc79-4462-ea75-f4cdb33cb8c9"
      },
      "source": [
        "#primeiro caracter em maísculo\n",
        "s.capitalize()"
      ],
      "execution_count": null,
      "outputs": [
        {
          "output_type": "execute_result",
          "data": {
            "text/plain": [
              "'Seja bem vindo ao universo de python'"
            ]
          },
          "metadata": {
            "tags": []
          },
          "execution_count": 59
        }
      ]
    },
    {
      "cell_type": "code",
      "metadata": {
        "id": "u149AdRErkBG",
        "colab_type": "code",
        "colab": {
          "base_uri": "https://localhost:8080/",
          "height": 34
        },
        "outputId": "087eaed8-599d-4776-dad9-1b58a8250a44"
      },
      "source": [
        "#conta a quantidade do caracter desejado (cuidado com maísculas e minusculas)\n",
        "s.count('a')"
      ],
      "execution_count": null,
      "outputs": [
        {
          "output_type": "execute_result",
          "data": {
            "text/plain": [
              "2"
            ]
          },
          "metadata": {
            "tags": []
          },
          "execution_count": 60
        }
      ]
    },
    {
      "cell_type": "code",
      "metadata": {
        "id": "2omgYitIrv5m",
        "colab_type": "code",
        "colab": {
          "base_uri": "https://localhost:8080/",
          "height": 34
        },
        "outputId": "ca8ed415-df55-42c7-b867-8fbbc323db60"
      },
      "source": [
        "# encontra a posição do caracter desejado (cuidado com maísculas e minusculas)\n",
        "s.find('p') "
      ],
      "execution_count": null,
      "outputs": [
        {
          "output_type": "execute_result",
          "data": {
            "text/plain": [
              "30"
            ]
          },
          "metadata": {
            "tags": []
          },
          "execution_count": 63
        }
      ]
    },
    {
      "cell_type": "code",
      "metadata": {
        "id": "NlWhBLg6sqrg",
        "colab_type": "code",
        "colab": {
          "base_uri": "https://localhost:8080/",
          "height": 34
        },
        "outputId": "b198c9fd-3b96-4080-a6fb-4bace02eea2b"
      },
      "source": [
        "# verificar se na minha string há somente minusculas\n",
        "s.islower()"
      ],
      "execution_count": null,
      "outputs": [
        {
          "output_type": "execute_result",
          "data": {
            "text/plain": [
              "True"
            ]
          },
          "metadata": {
            "tags": []
          },
          "execution_count": 67
        }
      ]
    },
    {
      "cell_type": "code",
      "metadata": {
        "id": "VrWjtosutEUE",
        "colab_type": "code",
        "colab": {
          "base_uri": "https://localhost:8080/",
          "height": 34
        },
        "outputId": "922b8ab9-4772-433d-f804-8c03b2c477eb"
      },
      "source": [
        "# verifica se na minha string tem apenas espaço\n",
        "s.isspace()"
      ],
      "execution_count": null,
      "outputs": [
        {
          "output_type": "execute_result",
          "data": {
            "text/plain": [
              "False"
            ]
          },
          "metadata": {
            "tags": []
          },
          "execution_count": 69
        }
      ]
    },
    {
      "cell_type": "code",
      "metadata": {
        "id": "1CLOxftitUuL",
        "colab_type": "code",
        "colab": {
          "base_uri": "https://localhost:8080/",
          "height": 34
        },
        "outputId": "e1c5de45-0f25-4ae8-d4a1-446bb2ec97df"
      },
      "source": [
        "s.endswith('o')"
      ],
      "execution_count": null,
      "outputs": [
        {
          "output_type": "execute_result",
          "data": {
            "text/plain": [
              "False"
            ]
          },
          "metadata": {
            "tags": []
          },
          "execution_count": 72
        }
      ]
    },
    {
      "cell_type": "markdown",
      "metadata": {
        "id": "wiqSceHHtjOB",
        "colab_type": "text"
      },
      "source": [
        "**COMPARANDO STRINGS**"
      ]
    },
    {
      "cell_type": "code",
      "metadata": {
        "id": "DOPTLdMctbd3",
        "colab_type": "code",
        "colab": {
          "base_uri": "https://localhost:8080/",
          "height": 34
        },
        "outputId": "84c96373-57cf-42b7-e2ff-964a0b16d4d0"
      },
      "source": [
        "#Python é igual a R?\n",
        "print(\"Python\" == \"R\")"
      ],
      "execution_count": null,
      "outputs": [
        {
          "output_type": "stream",
          "text": [
            "False\n"
          ],
          "name": "stdout"
        }
      ]
    },
    {
      "cell_type": "code",
      "metadata": {
        "id": "4xCv4_MCtoAt",
        "colab_type": "code",
        "colab": {
          "base_uri": "https://localhost:8080/",
          "height": 34
        },
        "outputId": "9ad21ecf-a731-49c1-9720-17477a4f8ae5"
      },
      "source": [
        "print(\"Python\" == \"Python\")"
      ],
      "execution_count": null,
      "outputs": [
        {
          "output_type": "stream",
          "text": [
            "True\n"
          ],
          "name": "stdout"
        }
      ]
    },
    {
      "cell_type": "markdown",
      "metadata": {
        "id": "024FmSctuHPZ",
        "colab_type": "text"
      },
      "source": [
        "**ESTRUTURA DE DADOS - LISTAS**"
      ]
    },
    {
      "cell_type": "code",
      "metadata": {
        "id": "AsKwxOeEtztl",
        "colab_type": "code",
        "colab": {}
      },
      "source": [
        "#Diferentemente das Strings, as listas  são mutáveis. Construídas com uso de colchetes [] e vírgulas separando cada elemento da lista. \n",
        "#lista =[item 1, item2, ...]. \n",
        "# É possível criar uma lista dentro de outra lista, sem restrição de tamanho. "
      ],
      "execution_count": null,
      "outputs": []
    },
    {
      "cell_type": "code",
      "metadata": {
        "id": "LqxKkJ17w4Tc",
        "colab_type": "code",
        "colab": {}
      },
      "source": [
        ""
      ],
      "execution_count": null,
      "outputs": []
    },
    {
      "cell_type": "markdown",
      "metadata": {
        "id": "73Txuiig1N-x",
        "colab_type": "text"
      },
      "source": [
        "# LISTAS"
      ]
    },
    {
      "cell_type": "code",
      "metadata": {
        "id": "Plm2sHPA1BJX",
        "colab_type": "code",
        "colab": {}
      },
      "source": [
        "# Criando uma lista\n",
        "listadomercado = [\"ovos, farinha, leite maçãs\"]"
      ],
      "execution_count": null,
      "outputs": []
    },
    {
      "cell_type": "code",
      "metadata": {
        "id": "xYhP249-1oUE",
        "colab_type": "code",
        "colab": {
          "base_uri": "https://localhost:8080/",
          "height": 34
        },
        "outputId": "271710cd-abb7-4d5f-e51b-c0bf4065e779"
      },
      "source": [
        "# imprimindo lista\n",
        "print(listadomercado)"
      ],
      "execution_count": null,
      "outputs": [
        {
          "output_type": "stream",
          "text": [
            "['ovos, farinha, leite maçãs']\n"
          ],
          "name": "stdout"
        }
      ]
    },
    {
      "cell_type": "code",
      "metadata": {
        "id": "JzvfNP9j1tL-",
        "colab_type": "code",
        "colab": {}
      },
      "source": [
        "# Criando outra lista\n",
        "listadomercado2 = [\"ovos\", \"farinha\", \"leite\", \"maçãs\"]"
      ],
      "execution_count": null,
      "outputs": []
    },
    {
      "cell_type": "code",
      "metadata": {
        "id": "fJuh0z4v11yp",
        "colab_type": "code",
        "colab": {
          "base_uri": "https://localhost:8080/",
          "height": 34
        },
        "outputId": "e23a141c-150a-4f52-ef23-b46904701c7c"
      },
      "source": [
        "print(listadomercado2)"
      ],
      "execution_count": null,
      "outputs": [
        {
          "output_type": "stream",
          "text": [
            "['ovos', 'farinha', 'leite', 'maçãs']\n"
          ],
          "name": "stdout"
        }
      ]
    },
    {
      "cell_type": "code",
      "metadata": {
        "id": "AfqhThSy13gu",
        "colab_type": "code",
        "colab": {
          "base_uri": "https://localhost:8080/",
          "height": 34
        },
        "outputId": "74e6676e-d8a1-4354-cc34-b482bd9f7c56"
      },
      "source": [
        "listadomercado[0]"
      ],
      "execution_count": null,
      "outputs": [
        {
          "output_type": "execute_result",
          "data": {
            "text/plain": [
              "'ovos, farinha, leite maçãs'"
            ]
          },
          "metadata": {
            "tags": []
          },
          "execution_count": 85
        }
      ]
    },
    {
      "cell_type": "code",
      "metadata": {
        "id": "RU3fu1sX19ke",
        "colab_type": "code",
        "colab": {
          "base_uri": "https://localhost:8080/",
          "height": 34
        },
        "outputId": "44818a39-bc18-4529-bc77-cf632a4218b5"
      },
      "source": [
        "listadomercado2[0]"
      ],
      "execution_count": null,
      "outputs": [
        {
          "output_type": "execute_result",
          "data": {
            "text/plain": [
              "'ovos'"
            ]
          },
          "metadata": {
            "tags": []
          },
          "execution_count": 86
        }
      ]
    },
    {
      "cell_type": "markdown",
      "metadata": {
        "id": "yMsb4tDM4PGR",
        "colab_type": "text"
      },
      "source": [
        "**Deletando um item da lista**"
      ]
    },
    {
      "cell_type": "code",
      "metadata": {
        "id": "h3x8t2M21-6e",
        "colab_type": "code",
        "colab": {
          "base_uri": "https://localhost:8080/",
          "height": 165
        },
        "outputId": "a3aa20aa-baf6-4a8b-e2fd-6b5a7c33f27b"
      },
      "source": [
        "#Aqui o professor tentou pregar uma peça. No Python a contagem começa do \"0\", o 4 estaria fora do range.\n",
        "del listadomercado2[4]"
      ],
      "execution_count": null,
      "outputs": [
        {
          "output_type": "error",
          "ename": "IndexError",
          "evalue": "ignored",
          "traceback": [
            "\u001b[0;31m---------------------------------------------------------------------------\u001b[0m",
            "\u001b[0;31mIndexError\u001b[0m                                Traceback (most recent call last)",
            "\u001b[0;32m<ipython-input-92-8253d856f3c5>\u001b[0m in \u001b[0;36m<module>\u001b[0;34m()\u001b[0m\n\u001b[0;32m----> 1\u001b[0;31m \u001b[0;32mdel\u001b[0m \u001b[0mlistadomercado2\u001b[0m\u001b[0;34m[\u001b[0m\u001b[0;36m4\u001b[0m\u001b[0;34m]\u001b[0m\u001b[0;34m\u001b[0m\u001b[0;34m\u001b[0m\u001b[0m\n\u001b[0m",
            "\u001b[0;31mIndexError\u001b[0m: list assignment index out of range"
          ]
        }
      ]
    },
    {
      "cell_type": "markdown",
      "metadata": {
        "id": "3iKeKHBf47vG",
        "colab_type": "text"
      },
      "source": [
        "**LISTAS DE LISTAS (LISTAS ANINHADAS)**"
      ]
    },
    {
      "cell_type": "code",
      "metadata": {
        "id": "63jKCcoM4Tce",
        "colab_type": "code",
        "colab": {}
      },
      "source": [
        "#criando uma lista de listas\n",
        "listas = [[1,2,3],[10,15,15],[10.1,8.7,2.3]]"
      ],
      "execution_count": null,
      "outputs": []
    },
    {
      "cell_type": "code",
      "metadata": {
        "id": "l66vLAks5Fx2",
        "colab_type": "code",
        "colab": {
          "base_uri": "https://localhost:8080/",
          "height": 34
        },
        "outputId": "52180190-1ab4-4c56-8d7e-7de9ef65b88f"
      },
      "source": [
        "#imprimindo listas\n",
        "listas"
      ],
      "execution_count": null,
      "outputs": [
        {
          "output_type": "execute_result",
          "data": {
            "text/plain": [
              "[[1, 2, 3], [10, 15, 15], [10.1, 8.7, 2.3]]"
            ]
          },
          "metadata": {
            "tags": []
          },
          "execution_count": 95
        }
      ]
    },
    {
      "cell_type": "code",
      "metadata": {
        "id": "zCkPqicw5HJ-",
        "colab_type": "code",
        "colab": {}
      },
      "source": [
        "#Atribuindo um item da lista a uma variável\n",
        "a = listas[0]"
      ],
      "execution_count": null,
      "outputs": []
    },
    {
      "cell_type": "code",
      "metadata": {
        "id": "PbCQZemM5Oxl",
        "colab_type": "code",
        "colab": {
          "base_uri": "https://localhost:8080/",
          "height": 34
        },
        "outputId": "59947075-4c68-4034-9b4d-d613cb394d8d"
      },
      "source": [
        "a"
      ],
      "execution_count": null,
      "outputs": [
        {
          "output_type": "execute_result",
          "data": {
            "text/plain": [
              "[1, 2, 3]"
            ]
          },
          "metadata": {
            "tags": []
          },
          "execution_count": 99
        }
      ]
    },
    {
      "cell_type": "code",
      "metadata": {
        "id": "Z09oTqNn5QI2",
        "colab_type": "code",
        "colab": {}
      },
      "source": [
        "b = a[0]"
      ],
      "execution_count": null,
      "outputs": []
    },
    {
      "cell_type": "code",
      "metadata": {
        "id": "icZg7CoP5Vx-",
        "colab_type": "code",
        "colab": {
          "base_uri": "https://localhost:8080/",
          "height": 34
        },
        "outputId": "cf09aba7-5b11-4e1c-cce9-6cdccb06df63"
      },
      "source": [
        "b"
      ],
      "execution_count": null,
      "outputs": [
        {
          "output_type": "execute_result",
          "data": {
            "text/plain": [
              "1"
            ]
          },
          "metadata": {
            "tags": []
          },
          "execution_count": 101
        }
      ]
    },
    {
      "cell_type": "code",
      "metadata": {
        "id": "eTwre2-c5Y8t",
        "colab_type": "code",
        "colab": {}
      },
      "source": [
        "list1 = listas[1]"
      ],
      "execution_count": null,
      "outputs": []
    },
    {
      "cell_type": "code",
      "metadata": {
        "id": "dqXgEZjk5bL4",
        "colab_type": "code",
        "colab": {
          "base_uri": "https://localhost:8080/",
          "height": 34
        },
        "outputId": "9963a10b-4d74-4db9-f331-9f6f8b7f9d82"
      },
      "source": [
        "list1"
      ],
      "execution_count": null,
      "outputs": [
        {
          "output_type": "execute_result",
          "data": {
            "text/plain": [
              "[10, 15, 15]"
            ]
          },
          "metadata": {
            "tags": []
          },
          "execution_count": 104
        }
      ]
    },
    {
      "cell_type": "code",
      "metadata": {
        "id": "1_70wxi55b8t",
        "colab_type": "code",
        "colab": {}
      },
      "source": [
        "valor_1_0 = list1[0]"
      ],
      "execution_count": null,
      "outputs": []
    },
    {
      "cell_type": "code",
      "metadata": {
        "id": "1EEYxxD45kFd",
        "colab_type": "code",
        "colab": {
          "base_uri": "https://localhost:8080/",
          "height": 34
        },
        "outputId": "a44c8a59-538e-44f6-d6a5-0e1f7b6df4a5"
      },
      "source": [
        "valor_1_0"
      ],
      "execution_count": null,
      "outputs": [
        {
          "output_type": "execute_result",
          "data": {
            "text/plain": [
              "10"
            ]
          },
          "metadata": {
            "tags": []
          },
          "execution_count": 113
        }
      ]
    },
    {
      "cell_type": "code",
      "metadata": {
        "id": "ayW9chmT57to",
        "colab_type": "code",
        "colab": {}
      },
      "source": [
        "valor_1_2 = list1[2]"
      ],
      "execution_count": null,
      "outputs": []
    },
    {
      "cell_type": "code",
      "metadata": {
        "id": "A2M3fTb85mwU",
        "colab_type": "code",
        "colab": {
          "base_uri": "https://localhost:8080/",
          "height": 34
        },
        "outputId": "c0e69ad0-2ebe-4a95-8751-a2109d038033"
      },
      "source": [
        "valor_1_2"
      ],
      "execution_count": null,
      "outputs": [
        {
          "output_type": "execute_result",
          "data": {
            "text/plain": [
              "15"
            ]
          },
          "metadata": {
            "tags": []
          },
          "execution_count": 115
        }
      ]
    },
    {
      "cell_type": "code",
      "metadata": {
        "id": "YyScA91H5o_u",
        "colab_type": "code",
        "colab": {}
      },
      "source": [
        "list2 = listas[2]"
      ],
      "execution_count": null,
      "outputs": []
    },
    {
      "cell_type": "code",
      "metadata": {
        "id": "bqK5rFde6Gqm",
        "colab_type": "code",
        "colab": {
          "base_uri": "https://localhost:8080/",
          "height": 34
        },
        "outputId": "09e8f384-f5de-415f-8258-6b7229660658"
      },
      "source": [
        "list2"
      ],
      "execution_count": null,
      "outputs": [
        {
          "output_type": "execute_result",
          "data": {
            "text/plain": [
              "[10.1, 8.7, 2.3]"
            ]
          },
          "metadata": {
            "tags": []
          },
          "execution_count": 117
        }
      ]
    },
    {
      "cell_type": "code",
      "metadata": {
        "id": "ATqup3VV6HTW",
        "colab_type": "code",
        "colab": {}
      },
      "source": [
        "valor_2_0 = list2[0]"
      ],
      "execution_count": null,
      "outputs": []
    },
    {
      "cell_type": "code",
      "metadata": {
        "id": "lyZVC-SC6J0m",
        "colab_type": "code",
        "colab": {
          "base_uri": "https://localhost:8080/",
          "height": 34
        },
        "outputId": "c7fb4b37-9efa-419a-c252-360cfb0efedc"
      },
      "source": [
        "valor_2_0"
      ],
      "execution_count": null,
      "outputs": [
        {
          "output_type": "execute_result",
          "data": {
            "text/plain": [
              "10.1"
            ]
          },
          "metadata": {
            "tags": []
          },
          "execution_count": 119
        }
      ]
    },
    {
      "cell_type": "code",
      "metadata": {
        "id": "wR6gkeun6LAv",
        "colab_type": "code",
        "colab": {}
      },
      "source": [
        ""
      ],
      "execution_count": null,
      "outputs": []
    },
    {
      "cell_type": "markdown",
      "metadata": {
        "id": "ZhCcc6aoWGuv",
        "colab_type": "text"
      },
      "source": [
        "# Dicionários"
      ]
    },
    {
      "cell_type": "code",
      "metadata": {
        "id": "w6YJpyHGWIre",
        "colab_type": "code",
        "colab": {}
      },
      "source": [
        "#Isso é uma lista\n",
        "estudantes_1st = [\"Mateus\", 24, \"Fernanda\", 22,  \"Tamires\", 26, \"Cristiano\" , 25]"
      ],
      "execution_count": null,
      "outputs": []
    },
    {
      "cell_type": "code",
      "metadata": {
        "id": "oGTPaRPrWVa_",
        "colab_type": "code",
        "colab": {
          "base_uri": "https://localhost:8080/",
          "height": 34
        },
        "outputId": "95aae818-528e-42d5-dba0-15afda565276"
      },
      "source": [
        "estudantes_1st"
      ],
      "execution_count": null,
      "outputs": [
        {
          "output_type": "execute_result",
          "data": {
            "text/plain": [
              "['Mateus', 24, 'Fernanda', 22, 'Tamires', 26, 'Cristiano', 25]"
            ]
          },
          "metadata": {
            "tags": []
          },
          "execution_count": 123
        }
      ]
    },
    {
      "cell_type": "code",
      "metadata": {
        "id": "TqtsN5mPWYuj",
        "colab_type": "code",
        "colab": {}
      },
      "source": [
        "# Isso é um dicionário (Veja que ao invés de parênteses, aqui é usado chaves)\n",
        "estudantes_dict = {\"Mateus\":24, \"Fernanda\":22, \"Tamires\":26, \"Cristiano\":25}"
      ],
      "execution_count": null,
      "outputs": []
    },
    {
      "cell_type": "code",
      "metadata": {
        "id": "Nv6PD3fHWjuF",
        "colab_type": "code",
        "colab": {
          "base_uri": "https://localhost:8080/",
          "height": 34
        },
        "outputId": "a5bebe61-2eb5-415a-9095-969620e87793"
      },
      "source": [
        "estudantes_dict"
      ],
      "execution_count": null,
      "outputs": [
        {
          "output_type": "execute_result",
          "data": {
            "text/plain": [
              "{'Cristiano': 25, 'Fernanda': 22, 'Mateus': 24, 'Tamires': 26}"
            ]
          },
          "metadata": {
            "tags": []
          },
          "execution_count": 126
        }
      ]
    },
    {
      "cell_type": "code",
      "metadata": {
        "id": "zb2MDPE5W3Pd",
        "colab_type": "code",
        "colab": {
          "base_uri": "https://localhost:8080/",
          "height": 34
        },
        "outputId": "e7b2d7e8-7f24-410b-c5d4-0ed12b6fce1e"
      },
      "source": [
        "estudantes_dict[\"Mateus\"]"
      ],
      "execution_count": null,
      "outputs": [
        {
          "output_type": "execute_result",
          "data": {
            "text/plain": [
              "24"
            ]
          },
          "metadata": {
            "tags": []
          },
          "execution_count": 127
        }
      ]
    },
    {
      "cell_type": "code",
      "metadata": {
        "id": "gFKwRwT6ZBvX",
        "colab_type": "code",
        "colab": {}
      },
      "source": [
        "estudantes_dict[\"Pedro\"] = 23"
      ],
      "execution_count": null,
      "outputs": []
    },
    {
      "cell_type": "code",
      "metadata": {
        "id": "MWQyWKUIXDst",
        "colab_type": "code",
        "colab": {
          "base_uri": "https://localhost:8080/",
          "height": 34
        },
        "outputId": "c9a70393-ea1d-4e5f-8799-f886906ee293"
      },
      "source": [
        "estudantes_dict[\"Pedro\"]"
      ],
      "execution_count": null,
      "outputs": [
        {
          "output_type": "execute_result",
          "data": {
            "text/plain": [
              "23"
            ]
          },
          "metadata": {
            "tags": []
          },
          "execution_count": 129
        }
      ]
    },
    {
      "cell_type": "code",
      "metadata": {
        "id": "jemiOE7tZINr",
        "colab_type": "code",
        "colab": {
          "base_uri": "https://localhost:8080/",
          "height": 34
        },
        "outputId": "df92614e-a1b5-460c-c068-10ed00263d69"
      },
      "source": [
        "estudantes_dict"
      ],
      "execution_count": null,
      "outputs": [
        {
          "output_type": "execute_result",
          "data": {
            "text/plain": [
              "{'Cristiano': 25, 'Fernanda': 22, 'Mateus': 24, 'Pedro': 23, 'Tamires': 26}"
            ]
          },
          "metadata": {
            "tags": []
          },
          "execution_count": 130
        }
      ]
    },
    {
      "cell_type": "code",
      "metadata": {
        "id": "9d9jDz_1ZTB0",
        "colab_type": "code",
        "colab": {}
      },
      "source": [
        "estudantes_dict.clear()"
      ],
      "execution_count": null,
      "outputs": []
    },
    {
      "cell_type": "code",
      "metadata": {
        "id": "9XQkqWcSZfR9",
        "colab_type": "code",
        "colab": {
          "base_uri": "https://localhost:8080/",
          "height": 34
        },
        "outputId": "a98deb0b-44dc-43d3-d0c9-8448a855d0f2"
      },
      "source": [
        "estudantes_dict"
      ],
      "execution_count": null,
      "outputs": [
        {
          "output_type": "execute_result",
          "data": {
            "text/plain": [
              "{}"
            ]
          },
          "metadata": {
            "tags": []
          },
          "execution_count": 132
        }
      ]
    },
    {
      "cell_type": "code",
      "metadata": {
        "id": "MNAaD3h-Zg-N",
        "colab_type": "code",
        "colab": {}
      },
      "source": [
        "estudantes = {\"Mateus\":24, \"Fernanda\":22, \"Tamires\":26, \"Cristiano\":25}"
      ],
      "execution_count": null,
      "outputs": []
    },
    {
      "cell_type": "code",
      "metadata": {
        "id": "N47lRbRM1iPk",
        "colab_type": "code",
        "colab": {
          "base_uri": "https://localhost:8080/",
          "height": 34
        },
        "outputId": "eb5e0b20-3079-495f-d47d-578215c894cf"
      },
      "source": [
        "estudantes"
      ],
      "execution_count": null,
      "outputs": [
        {
          "output_type": "execute_result",
          "data": {
            "text/plain": [
              "{'Cristiano': 25, 'Fernanda': 22, 'Mateus': 24, 'Tamires': 26}"
            ]
          },
          "metadata": {
            "tags": []
          },
          "execution_count": 134
        }
      ]
    },
    {
      "cell_type": "code",
      "metadata": {
        "id": "u3Gksxfi1iwA",
        "colab_type": "code",
        "colab": {
          "base_uri": "https://localhost:8080/",
          "height": 34
        },
        "outputId": "6e1e45c8-2a8a-48bb-d0de-c392906ad1e4"
      },
      "source": [
        "#o código len conta a qtd de objetos\n",
        "len(estudantes)"
      ],
      "execution_count": null,
      "outputs": [
        {
          "output_type": "execute_result",
          "data": {
            "text/plain": [
              "4"
            ]
          },
          "metadata": {
            "tags": []
          },
          "execution_count": 137
        }
      ]
    },
    {
      "cell_type": "code",
      "metadata": {
        "id": "rVhEx2GX1nfG",
        "colab_type": "code",
        "colab": {
          "base_uri": "https://localhost:8080/",
          "height": 34
        },
        "outputId": "1e0feed6-4b3f-44ba-9c4d-6517fb0d51b3"
      },
      "source": [
        "estudantes.keys()"
      ],
      "execution_count": null,
      "outputs": [
        {
          "output_type": "execute_result",
          "data": {
            "text/plain": [
              "dict_keys(['Mateus', 'Fernanda', 'Tamires', 'Cristiano'])"
            ]
          },
          "metadata": {
            "tags": []
          },
          "execution_count": 138
        }
      ]
    },
    {
      "cell_type": "code",
      "metadata": {
        "id": "LcGP8zMj17c6",
        "colab_type": "code",
        "colab": {
          "base_uri": "https://localhost:8080/",
          "height": 34
        },
        "outputId": "395c94cc-c768-40da-d839-dedf35e232bb"
      },
      "source": [
        "estudantes.values()"
      ],
      "execution_count": null,
      "outputs": [
        {
          "output_type": "execute_result",
          "data": {
            "text/plain": [
              "dict_values([24, 22, 26, 25])"
            ]
          },
          "metadata": {
            "tags": []
          },
          "execution_count": 140
        }
      ]
    },
    {
      "cell_type": "code",
      "metadata": {
        "id": "OD0n-EGe1--E",
        "colab_type": "code",
        "colab": {
          "base_uri": "https://localhost:8080/",
          "height": 34
        },
        "outputId": "c679e11e-ac14-4a90-fbb6-4d3770a72cc2"
      },
      "source": [
        "#items = combinação de chave e valores.\n",
        "estudantes.items()"
      ],
      "execution_count": null,
      "outputs": [
        {
          "output_type": "execute_result",
          "data": {
            "text/plain": [
              "dict_items([('Mateus', 24), ('Fernanda', 22), ('Tamires', 26), ('Cristiano', 25)])"
            ]
          },
          "metadata": {
            "tags": []
          },
          "execution_count": 141
        }
      ]
    },
    {
      "cell_type": "code",
      "metadata": {
        "id": "J3SkgG2s2GgX",
        "colab_type": "code",
        "colab": {}
      },
      "source": [
        "estudantes2 = {\"Maria\":27, \"Erika\":28, \"Milton\":26}"
      ],
      "execution_count": null,
      "outputs": []
    },
    {
      "cell_type": "code",
      "metadata": {
        "id": "kJhDwtnS2O9q",
        "colab_type": "code",
        "colab": {
          "base_uri": "https://localhost:8080/",
          "height": 34
        },
        "outputId": "ab5fe35b-9b7f-479d-8ccd-1b94c4ed5937"
      },
      "source": [
        "estudantes2"
      ],
      "execution_count": null,
      "outputs": [
        {
          "output_type": "execute_result",
          "data": {
            "text/plain": [
              "{'Erika': 28, 'Maria': 27, 'Milton': 26}"
            ]
          },
          "metadata": {
            "tags": []
          },
          "execution_count": 143
        }
      ]
    },
    {
      "cell_type": "code",
      "metadata": {
        "id": "Zw8rCZXv2QOD",
        "colab_type": "code",
        "colab": {}
      },
      "source": [
        "#Aqui eu compilo estudantes 1 com estudantes 2.\n",
        "estudantes.update(estudantes2)"
      ],
      "execution_count": null,
      "outputs": []
    },
    {
      "cell_type": "code",
      "metadata": {
        "id": "wg5ZqtsU2U5b",
        "colab_type": "code",
        "colab": {
          "base_uri": "https://localhost:8080/",
          "height": 136
        },
        "outputId": "9e8fa23a-a5d7-4ac7-f57b-09483a353eb3"
      },
      "source": [
        "estudantes"
      ],
      "execution_count": null,
      "outputs": [
        {
          "output_type": "execute_result",
          "data": {
            "text/plain": [
              "{'Cristiano': 25,\n",
              " 'Erika': 28,\n",
              " 'Fernanda': 22,\n",
              " 'Maria': 27,\n",
              " 'Mateus': 24,\n",
              " 'Milton': 26,\n",
              " 'Tamires': 26}"
            ]
          },
          "metadata": {
            "tags": []
          },
          "execution_count": 145
        }
      ]
    },
    {
      "cell_type": "code",
      "metadata": {
        "id": "ttBQ6YBd2_CM",
        "colab_type": "code",
        "colab": {}
      },
      "source": [
        "dic1 = {}"
      ],
      "execution_count": null,
      "outputs": []
    },
    {
      "cell_type": "code",
      "metadata": {
        "id": "7cjG0X8a2V-8",
        "colab_type": "code",
        "colab": {
          "base_uri": "https://localhost:8080/",
          "height": 34
        },
        "outputId": "268eb39d-aa84-431c-cf10-b6366fac1895"
      },
      "source": [
        "dic1"
      ],
      "execution_count": null,
      "outputs": [
        {
          "output_type": "execute_result",
          "data": {
            "text/plain": [
              "{}"
            ]
          },
          "metadata": {
            "tags": []
          },
          "execution_count": 148
        }
      ]
    },
    {
      "cell_type": "code",
      "metadata": {
        "id": "xbWWGDRg3B2T",
        "colab_type": "code",
        "colab": {}
      },
      "source": [
        "dic1[\"key_one\"] = 2"
      ],
      "execution_count": null,
      "outputs": []
    },
    {
      "cell_type": "code",
      "metadata": {
        "id": "5-tHSJAy3GGX",
        "colab_type": "code",
        "colab": {
          "base_uri": "https://localhost:8080/",
          "height": 34
        },
        "outputId": "0acafbe7-8ac2-4a73-d6da-93475685e71f"
      },
      "source": [
        "print(dic1)"
      ],
      "execution_count": null,
      "outputs": [
        {
          "output_type": "stream",
          "text": [
            "{'key_one': 2}\n"
          ],
          "name": "stdout"
        }
      ]
    },
    {
      "cell_type": "code",
      "metadata": {
        "id": "EpBttUk93HC7",
        "colab_type": "code",
        "colab": {}
      },
      "source": [
        "dic1[10] = 5"
      ],
      "execution_count": null,
      "outputs": []
    },
    {
      "cell_type": "code",
      "metadata": {
        "id": "jav50ISg3JnN",
        "colab_type": "code",
        "colab": {
          "base_uri": "https://localhost:8080/",
          "height": 34
        },
        "outputId": "8872385f-9236-466f-863c-1c3c4883d0e3"
      },
      "source": [
        "dic1"
      ],
      "execution_count": null,
      "outputs": [
        {
          "output_type": "execute_result",
          "data": {
            "text/plain": [
              "{10: 5, 'key_one': 2}"
            ]
          },
          "metadata": {
            "tags": []
          },
          "execution_count": 152
        }
      ]
    },
    {
      "cell_type": "code",
      "metadata": {
        "id": "SFDpbyIR3s8c",
        "colab_type": "code",
        "colab": {}
      },
      "source": [
        "dic1[8.2] = \"Python\""
      ],
      "execution_count": null,
      "outputs": []
    },
    {
      "cell_type": "code",
      "metadata": {
        "id": "Um_UElGp3wGD",
        "colab_type": "code",
        "colab": {
          "base_uri": "https://localhost:8080/",
          "height": 34
        },
        "outputId": "b1526bca-614c-4ed9-bfa2-b356aabf2e4a"
      },
      "source": [
        "dic1"
      ],
      "execution_count": null,
      "outputs": [
        {
          "output_type": "execute_result",
          "data": {
            "text/plain": [
              "{10: 5, 8.2: 'Python', 'key_one': 2}"
            ]
          },
          "metadata": {
            "tags": []
          },
          "execution_count": 154
        }
      ]
    },
    {
      "cell_type": "code",
      "metadata": {
        "id": "Ymf6TkGE399-",
        "colab_type": "code",
        "colab": {}
      },
      "source": [
        "dic1[\"teste\"] = 5"
      ],
      "execution_count": null,
      "outputs": []
    },
    {
      "cell_type": "code",
      "metadata": {
        "id": "JaoHbkm84CRU",
        "colab_type": "code",
        "colab": {
          "base_uri": "https://localhost:8080/",
          "height": 34
        },
        "outputId": "3a08d2f0-2c50-49f0-9e2f-a5581cc1b394"
      },
      "source": [
        "dic1"
      ],
      "execution_count": null,
      "outputs": [
        {
          "output_type": "execute_result",
          "data": {
            "text/plain": [
              "{10: 5, 8.2: 'Python', 'key_one': 2, 'teste': 5}"
            ]
          },
          "metadata": {
            "tags": []
          },
          "execution_count": 156
        }
      ]
    },
    {
      "cell_type": "code",
      "metadata": {
        "id": "66Y1DeYY4Cmx",
        "colab_type": "code",
        "colab": {}
      },
      "source": [
        "dic1 = {}"
      ],
      "execution_count": null,
      "outputs": []
    },
    {
      "cell_type": "code",
      "metadata": {
        "id": "lER075-84nPN",
        "colab_type": "code",
        "colab": {
          "base_uri": "https://localhost:8080/",
          "height": 34
        },
        "outputId": "6c10fc8f-ce53-46b5-969d-debfb04c58d7"
      },
      "source": [
        "dic1"
      ],
      "execution_count": null,
      "outputs": [
        {
          "output_type": "execute_result",
          "data": {
            "text/plain": [
              "{}"
            ]
          },
          "metadata": {
            "tags": []
          },
          "execution_count": 158
        }
      ]
    },
    {
      "cell_type": "code",
      "metadata": {
        "id": "IYwSShG04nl6",
        "colab_type": "code",
        "colab": {}
      },
      "source": [
        "dic1[\"teste\"] = 10"
      ],
      "execution_count": null,
      "outputs": []
    },
    {
      "cell_type": "code",
      "metadata": {
        "id": "2ajCjUjG5D_2",
        "colab_type": "code",
        "colab": {}
      },
      "source": [
        "dic1[\"key\"] = \"teste\""
      ],
      "execution_count": null,
      "outputs": []
    },
    {
      "cell_type": "code",
      "metadata": {
        "id": "WSbwsRPl5Mz9",
        "colab_type": "code",
        "colab": {
          "base_uri": "https://localhost:8080/",
          "height": 34
        },
        "outputId": "62150080-572d-492e-bb4a-34cda4f1ed81"
      },
      "source": [
        "dic1"
      ],
      "execution_count": null,
      "outputs": [
        {
          "output_type": "execute_result",
          "data": {
            "text/plain": [
              "{'key': 'teste', 'teste': 10}"
            ]
          },
          "metadata": {
            "tags": []
          },
          "execution_count": 161
        }
      ]
    },
    {
      "cell_type": "code",
      "metadata": {
        "id": "-fPKMzFK5ORB",
        "colab_type": "code",
        "colab": {}
      },
      "source": [
        "dic2 = {}"
      ],
      "execution_count": null,
      "outputs": []
    },
    {
      "cell_type": "code",
      "metadata": {
        "id": "8CI6TSqq5S1_",
        "colab_type": "code",
        "colab": {}
      },
      "source": [
        "dic2[\"key1\"] = \"Big Data\""
      ],
      "execution_count": null,
      "outputs": []
    },
    {
      "cell_type": "code",
      "metadata": {
        "id": "Gf-UDgF45XgM",
        "colab_type": "code",
        "colab": {}
      },
      "source": [
        "dic2[\"key2\"] = 10"
      ],
      "execution_count": null,
      "outputs": []
    },
    {
      "cell_type": "code",
      "metadata": {
        "id": "hASFDME55a0_",
        "colab_type": "code",
        "colab": {}
      },
      "source": [
        "dic2[\"key3\"] = 5.6"
      ],
      "execution_count": null,
      "outputs": []
    },
    {
      "cell_type": "code",
      "metadata": {
        "id": "HdxsxYgK5fPo",
        "colab_type": "code",
        "colab": {
          "base_uri": "https://localhost:8080/",
          "height": 34
        },
        "outputId": "135914dd-b4c2-4cb0-9258-055c48a9977b"
      },
      "source": [
        "dic2"
      ],
      "execution_count": null,
      "outputs": [
        {
          "output_type": "execute_result",
          "data": {
            "text/plain": [
              "{'key 1': 'Big Data', 'key2': 10, 'key3': 5.6}"
            ]
          },
          "metadata": {
            "tags": []
          },
          "execution_count": 166
        }
      ]
    },
    {
      "cell_type": "code",
      "metadata": {
        "id": "5AuOjy9e5fkz",
        "colab_type": "code",
        "colab": {}
      },
      "source": [
        "a = dic2[\"key1\"]"
      ],
      "execution_count": null,
      "outputs": []
    },
    {
      "cell_type": "code",
      "metadata": {
        "id": "1XjxHa6H5lNy",
        "colab_type": "code",
        "colab": {}
      },
      "source": [
        "b = dic2[\"key2\"]"
      ],
      "execution_count": null,
      "outputs": []
    },
    {
      "cell_type": "code",
      "metadata": {
        "id": "bSHrEeo-6Tco",
        "colab_type": "code",
        "colab": {}
      },
      "source": [
        "c = dic2[\"key3\"]"
      ],
      "execution_count": null,
      "outputs": []
    },
    {
      "cell_type": "code",
      "metadata": {
        "id": "j1wfxNcZ6jFb",
        "colab_type": "code",
        "colab": {
          "base_uri": "https://localhost:8080/",
          "height": 34
        },
        "outputId": "f72eca94-d41c-4489-ad83-790efa29d74b"
      },
      "source": [
        "a, b, c"
      ],
      "execution_count": null,
      "outputs": [
        {
          "output_type": "execute_result",
          "data": {
            "text/plain": [
              "('Big Data', 10, 5.6)"
            ]
          },
          "metadata": {
            "tags": []
          },
          "execution_count": 177
        }
      ]
    },
    {
      "cell_type": "code",
      "metadata": {
        "id": "WWtp0iAR6lSK",
        "colab_type": "code",
        "colab": {}
      },
      "source": [
        "# dicionário de listas\n",
        "dic3 = {'key1':1230, 'key2':[22,453,73.4],'key3':['leite','maca','batata']}"
      ],
      "execution_count": null,
      "outputs": []
    },
    {
      "cell_type": "code",
      "metadata": {
        "id": "GfUrbpeC64--",
        "colab_type": "code",
        "colab": {
          "base_uri": "https://localhost:8080/",
          "height": 34
        },
        "outputId": "aaba73c2-9939-4397-cedc-e6d3c5d69ec2"
      },
      "source": [
        "dic3"
      ],
      "execution_count": null,
      "outputs": [
        {
          "output_type": "execute_result",
          "data": {
            "text/plain": [
              "{'key1': 1230, 'key2': [22, 453, 73.4], 'key3': ['leite', 'maca', 'batata']}"
            ]
          },
          "metadata": {
            "tags": []
          },
          "execution_count": 179
        }
      ]
    },
    {
      "cell_type": "code",
      "metadata": {
        "id": "TU1ehX1166SP",
        "colab_type": "code",
        "colab": {
          "base_uri": "https://localhost:8080/",
          "height": 34
        },
        "outputId": "f6d7559d-6c53-4de6-f11d-60dd1ef553bc"
      },
      "source": [
        "dic3['key2']"
      ],
      "execution_count": null,
      "outputs": [
        {
          "output_type": "execute_result",
          "data": {
            "text/plain": [
              "[22, 453, 73.4]"
            ]
          },
          "metadata": {
            "tags": []
          },
          "execution_count": 180
        }
      ]
    },
    {
      "cell_type": "code",
      "metadata": {
        "id": "l3zU21rH7AEB",
        "colab_type": "code",
        "colab": {
          "base_uri": "https://localhost:8080/",
          "height": 34
        },
        "outputId": "47bf6dc1-639e-4992-c454-17d09025b827"
      },
      "source": [
        "# acessando um item da lista, dentro do dicionário\n",
        "dic3['key3'][0].upper()"
      ],
      "execution_count": null,
      "outputs": [
        {
          "output_type": "execute_result",
          "data": {
            "text/plain": [
              "'LEITE'"
            ]
          },
          "metadata": {
            "tags": []
          },
          "execution_count": 182
        }
      ]
    },
    {
      "cell_type": "code",
      "metadata": {
        "id": "OqgfCy537IwX",
        "colab_type": "code",
        "colab": {}
      },
      "source": [
        "var1 = dic3['key2'][0] - 2"
      ],
      "execution_count": null,
      "outputs": []
    },
    {
      "cell_type": "code",
      "metadata": {
        "id": "eUShocxA7Xau",
        "colab_type": "code",
        "colab": {
          "base_uri": "https://localhost:8080/",
          "height": 34
        },
        "outputId": "4e291ab4-10c0-41fa-9a8c-884776e7fb74"
      },
      "source": [
        "var1"
      ],
      "execution_count": null,
      "outputs": [
        {
          "output_type": "execute_result",
          "data": {
            "text/plain": [
              "20"
            ]
          },
          "metadata": {
            "tags": []
          },
          "execution_count": 184
        }
      ]
    },
    {
      "cell_type": "code",
      "metadata": {
        "id": "DLx4YcA-7YiU",
        "colab_type": "code",
        "colab": {}
      },
      "source": [
        "# duas operações no mesmo comando, para atualizar um item dentro da lista\n",
        "dic3['key2'][0] -= 2"
      ],
      "execution_count": null,
      "outputs": []
    },
    {
      "cell_type": "code",
      "metadata": {
        "id": "dQsRDPzRBSAt",
        "colab_type": "code",
        "colab": {
          "base_uri": "https://localhost:8080/",
          "height": 34
        },
        "outputId": "ec4f440d-c1d5-4cb1-e0a5-2dfee4136e79"
      },
      "source": [
        "dic3"
      ],
      "execution_count": null,
      "outputs": [
        {
          "output_type": "execute_result",
          "data": {
            "text/plain": [
              "{'key1': 1230, 'key2': [20, 453, 73.4], 'key3': ['leite', 'maca', 'batata']}"
            ]
          },
          "metadata": {
            "tags": []
          },
          "execution_count": 186
        }
      ]
    },
    {
      "cell_type": "markdown",
      "metadata": {
        "id": "lf1Bv6gwD9ml",
        "colab_type": "text"
      },
      "source": [
        "# Criando dicionários aninhados"
      ]
    },
    {
      "cell_type": "code",
      "metadata": {
        "id": "2hnRH-8GEBSK",
        "colab_type": "code",
        "colab": {}
      },
      "source": [
        "#criando dicionários aninhados\n",
        "dic_aninhado = {'key1':{'key2_aninhada':{'key3_aninhada':'dic aninhado em Python'}}}"
      ],
      "execution_count": null,
      "outputs": []
    },
    {
      "cell_type": "code",
      "metadata": {
        "id": "Ai1WoF6SBTdC",
        "colab_type": "code",
        "colab": {
          "base_uri": "https://localhost:8080/",
          "height": 34
        },
        "outputId": "a7c3ce05-87ef-4f94-a46e-5292eb5d458e"
      },
      "source": [
        "dic_aninhado"
      ],
      "execution_count": null,
      "outputs": [
        {
          "output_type": "execute_result",
          "data": {
            "text/plain": [
              "{'key1': {'key2_aninhada': {'key3_aninhada': 'dic aninhado em Python'}}}"
            ]
          },
          "metadata": {
            "tags": []
          },
          "execution_count": 190
        }
      ]
    },
    {
      "cell_type": "code",
      "metadata": {
        "id": "HwqjrKrVESWc",
        "colab_type": "code",
        "colab": {
          "base_uri": "https://localhost:8080/",
          "height": 34
        },
        "outputId": "8b0b2fc3-2cdf-4f2f-8889-db2f6c99bb9f"
      },
      "source": [
        "dic_aninhado['key1']['key2_aninhada']['key3_aninhada']"
      ],
      "execution_count": null,
      "outputs": [
        {
          "output_type": "execute_result",
          "data": {
            "text/plain": [
              "'dic aninhado em Python'"
            ]
          },
          "metadata": {
            "tags": []
          },
          "execution_count": 191
        }
      ]
    },
    {
      "cell_type": "markdown",
      "metadata": {
        "id": "SIVZ-5b-JrC5",
        "colab_type": "text"
      },
      "source": [
        "# Estrutura de Dados - Tuplas"
      ]
    },
    {
      "cell_type": "markdown",
      "metadata": {
        "id": "e52J7OVCJyxB",
        "colab_type": "text"
      },
      "source": [
        "Em Python, tuplas são muito semelhantes às listas, no entanto, ao contrário de listas, tuplas são imutáveis, o que significa que não podem ser alteradas. Você usaria tuplas para apresentar dados que não devem ser alterados, como os dias da semana ou datas em um calendário.\n",
        "As tuplas são construídas com o uso de parênteses () e vírgulas separando cada elemento da tupla.\n",
        "Tupla = (item1, item2, item3, ..., itemz).\n",
        " "
      ]
    },
    {
      "cell_type": "markdown",
      "metadata": {
        "id": "HoPWgCn1KY5o",
        "colab_type": "text"
      },
      "source": [
        "Tuplas NAÕ SÃO utilizadas com frequência, como listas por exemplo, mas são usadas quando é necessário imutabilidade. Se em seu programa você precisa ter certeza de que os dados não sofrerão mudança, então dupla pode ser a sua solução. Ela fornece uma fonte conveniente de integridade de dados."
      ]
    },
    {
      "cell_type": "code",
      "metadata": {
        "id": "RzvI8M43JvPb",
        "colab_type": "code",
        "colab": {}
      },
      "source": [
        ""
      ],
      "execution_count": null,
      "outputs": []
    }
  ]
}